{
 "cells": [
  {
   "cell_type": "code",
   "execution_count": 1,
   "metadata": {},
   "outputs": [],
   "source": [
    "#Importing libraries\n",
    "import urllib.request, urllib.parse, urllib.error\n",
    "from bs4 import BeautifulSoup\n",
    "import ssl\n",
    "import json\n",
    "import re\n",
    "import sys\n",
    "import warnings\n",
    "\n",
    "if not sys.warnoptions:\n",
    "    warnings.simplefilter(\"ignore\")\n",
    "    \n",
    "#Ignoring SSL certificate errors\n",
    "ctx = ssl.create_default_context()\n",
    "ctx.check_hostname = False\n",
    "ctx.verify_mode = ssl.CERT_NONE"
   ]
  },
  {
   "cell_type": "code",
   "execution_count": 2,
   "metadata": {},
   "outputs": [],
   "source": [
    "hotel_json = {}\n",
    "hotel_json[\"reviews\"]=[]\n",
    "review = []\n",
    "\n",
    "def Scrap_reviews(url_list):\n",
    "    for url in url_list:\n",
    "        html = urllib.request.urlopen(url, context=ctx).read()\n",
    "        soup = BeautifulSoup(html, 'html.parser')\n",
    "        html = soup.prettify(\"utf-8\")\n",
    "        hotel_json = {}\n",
    "        hotel_json[\"reviews\"]=[]\n",
    "        review = []\n",
    "        \n",
    "        #We scrap the name, url, image, pricing, rating and address of the hotel\n",
    "        for line in soup.find_all('script',attrs={\"type\" : \"application/ld+json\"}):\n",
    "            details = line.text.strip()\n",
    "            details = details.replace('/','')\n",
    "            details = json.loads(details)\n",
    "            hotel_json[\"name\"] = details[\"name\"]\n",
    "            hotel_json[\"url\"] = details[\"url\"]\n",
    "            hotel_json[\"image\"] = details[\"image\"]\n",
    "            details[\"priceRange\"] = details[\"priceRange\"]\n",
    "            hotel_json[\"priceRange\"] = details[\"priceRange\"]\n",
    "            hotel_json[\"aggregateRating\"]={}\n",
    "            hotel_json[\"aggregateRating\"][\"ratingValue\"] = details[\"aggregateRating\"][\"ratingValue\"]\n",
    "            hotel_json[\"aggregateRating\"][\"reviewCount\"] = details[\"aggregateRating\"][\"reviewCount\"]\n",
    "            hotel_json[\"address\"]={}\n",
    "            hotel_json[\"address\"][\"Street\"]=details[\"address\"][\"streetAddress\"]\n",
    "            hotel_json[\"address\"][\"Locality\"]=details[\"address\"][\"addressLocality\"]\n",
    "            hotel_json[\"address\"][\"Region\"]=details[\"address\"][\"addressRegion\"]\n",
    "            hotel_json[\"address\"][\"Zip\"]=details[\"address\"][\"postalCode\"]\n",
    "        \n",
    "        #We scrap the reviews from the hotels\n",
    "        for line in soup.find_all('div', attrs = {'class', \"c-review-snippet\"}):\n",
    "            review = line.text.strip()\n",
    "            review = review.replace('\\r', ' ').replace('\\n', ' ')\n",
    "            review = ' '.join(review.split())\n",
    "            hotel_json[\"reviews\"].append(review)\n",
    "            \n",
    "        #Saves the information into a .json with the name of the hotel\n",
    "        with open(hotel_json[\"name\"]+\".json\", 'w') as outfile:\n",
    "            json.dump(hotel_json, outfile, indent=4)    "
   ]
  },
  {
   "cell_type": "code",
   "execution_count": 3,
   "metadata": {},
   "outputs": [],
   "source": [
    "#Here we copy the urls that we want to scrap from Booking.com\n",
    "url_list = [\n",
    "'https://www.booking.com/hotel/at/courtyard-by-marriott-wien-messe.html?aid=356980;label=gog235jc-1DCAsoRkIIYmFsbW9yYWxIM1gDaEaIAQGYATG4AQfIAQzYAQPoAQH4AQKIAgGoAgO4AtLI7vMFwAIB;sid=2a31209c8df7e74f89ef392e4d85314e;dest_id=-1995499;dest_type=city;dist=0;group_adults=2;group_children=0;hapos=1;hpos=1;no_rooms=1;room1=A%2CA;sb_price_type=total;sr_order=popularity;srepoch=1585161769;srpvid=3dd0839412ab0023;type=total;ucfs=1&#hotelTmpl',\n",
    "'https://www.booking.com/hotel/at/vienna-stephansdom.en-gb.html?aid=356980;label=gog235jc-1DCAsoDkISdmllbm5hLXN0ZXBoYW5zZG9tSDNYA2hGiAEBmAEJuAEHyAEM2AED6AEBiAIBqAIDuALnv630BcACAQ;sid=4feb7fec272a84fddd9aa8104b413c8c;dist=0&group_adults=2&group_children=0&keep_landing=1&no_rooms=1&sb_price_type=total&type=total&',\n",
    "'https://www.booking.com/hotel/fr/lesaintgregoire.en-gb.html?aid=356980;label=gog235jc-1DCAsoUEIebG9uZG9uLWNpdHktc3VpdGVzLWJ5LW1vbnRjYWxtSApYA2hGiAEBmAEKuAEHyAEM2AED6AEB-AECiAIBqAIDuAKbkf7zBcACAQ;sid=4feb7fec272a84fddd9aa8104b413c8c;dest_id=-1456928&dest_type=city&group_adults=2&group_children=0&hapos=1&hpos=1&no_rooms=1&room1=A%2CA&sb_price_type=total&sr_order=popularity&srepoch=1585416553&srpvid=babe7af47d9e0094&type=total&ucfs=1&#hotelTmpl',\n",
    "'https://www.booking.com/hotel/gb/london-city-suites-by-montcalm.en-gb.html?label=gen173nr-1DCAsoUEIebG9uZG9uLWNpdHktc3VpdGVzLWJ5LW1vbnRjYWxtSAlYBGhGiAEBmAEJuAEHyAEM2AED6AEBiAIBqAIDuALHkrH0BcACAQ;sid=4feb7fec272a84fddd9aa8104b413c8c;dist=0&group_adults=2&group_children=0&keep_landing=1&no_rooms=1&sb_price_type=total&type=total&',\n",
    "'https://www.booking.com/hotel/fr/crayon-rouge.en-gb.html?aid=356980;label=gog235jc-1DCAsoUEIebG9uZG9uLWNpdHktc3VpdGVzLWJ5LW1vbnRjYWxtSApYA2hGiAEBmAEKuAEHyAEM2AED6AEB-AECiAIBqAIDuAKbkf7zBcACAQ;sid=4feb7fec272a84fddd9aa8104b413c8c;dest_id=-1456928&dest_type=city&group_adults=2&group_children=0&hapos=1&hpos=1&no_rooms=1&room1=A%2CA&sb_price_type=total&sr_order=popularity&srepoch=1585416410&srpvid=e4707aac7e530079&type=total&ucfs=1&#hotelTmpl',\n",
    "]"
   ]
  },
  {
   "cell_type": "code",
   "execution_count": 4,
   "metadata": {},
   "outputs": [],
   "source": [
    "#We call the function - it generates the .json files\n",
    "Scrap_reviews(url_list)"
   ]
  }
 ],
 "metadata": {
  "kernelspec": {
   "display_name": "Python 3",
   "language": "python",
   "name": "python3"
  },
  "language_info": {
   "codemirror_mode": {
    "name": "ipython",
    "version": 3
   },
   "file_extension": ".py",
   "mimetype": "text/x-python",
   "name": "python",
   "nbconvert_exporter": "python",
   "pygments_lexer": "ipython3",
   "version": "3.7.4"
  }
 },
 "nbformat": 4,
 "nbformat_minor": 2
}
